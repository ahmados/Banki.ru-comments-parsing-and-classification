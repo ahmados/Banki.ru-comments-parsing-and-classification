{
 "cells": [
  {
   "cell_type": "code",
   "execution_count": 1,
   "metadata": {},
   "outputs": [],
   "source": [
    "import requests\n",
    "import time\n",
    "import numpy as np\n",
    "import pandas as pd\n",
    "from tqdm import tqdm"
   ]
  },
  {
   "cell_type": "code",
   "execution_count": 2,
   "metadata": {},
   "outputs": [],
   "source": [
    "np.random.seed(2020)"
   ]
  },
  {
   "cell_type": "code",
   "execution_count": null,
   "metadata": {},
   "outputs": [],
   "source": [
    "listOfTexts = list()\n",
    "listOfGrades = list()\n",
    "listOfComments = list()\n",
    "listOfTimes = list()\n",
    "from bs4 import BeautifulSoup\n",
    "for i in tqdm(range(1495)):\n",
    "    page = requests.get(\"https://www.banki.ru/services/responses/bank/alfabank/?page={page}&isMobile=0\".format(page=i))\n",
    "    \n",
    "    soup = BeautifulSoup(page.content, 'html.parser')\n",
    "\n",
    "    responses = soup.find_all(class_='responses__item')\n",
    "    for child in responses:\n",
    "        grade = child.find(itemprop='ratingValue')\n",
    "        if grade:\n",
    "            grade = grade.text\n",
    "        text = child.find(class_='responses__item__message markup-inside-small markup-inside-small--bullet')\n",
    "        if text:\n",
    "            text = text.text\n",
    "        info = child.find('time')\n",
    "        if info:\n",
    "            info = info.text\n",
    "        numOfComments = child.find(class_='responses__item__comment-count')\n",
    "        if numOfComments:\n",
    "            numOfComments = int(numOfComments.text)\n",
    "        else:\n",
    "            numOfComments = 0\n",
    "\n",
    "        # print(text)\n",
    "        # print(grade)\n",
    "        # print(info)\n",
    "        # print(numOfComments)\n",
    "        # print('\\n\\n')\n",
    "        listOfTexts.append(text)\n",
    "        listOfTimes.append(info)\n",
    "        listOfComments.append(numOfComments)\n",
    "        listOfGrades.append(grade)\n",
    "    time.sleep(0.1 + 0.1 * max(-1, np.random.randn()))\n",
    "df = pd.DataFrame(list(zip(listOfTexts,listOfGrades,listOfComments,listOfTimes)), columns =['Text', 'Grade', 'numOfComments', 'Time'])\n",
    "df.to_csv('result.csv')"
   ]
  },
  {
   "cell_type": "code",
   "execution_count": 5,
   "metadata": {
    "scrolled": false
   },
   "outputs": [
    {
     "data": {
      "text/html": [
       "<div>\n",
       "<style scoped>\n",
       "    .dataframe tbody tr th:only-of-type {\n",
       "        vertical-align: middle;\n",
       "    }\n",
       "\n",
       "    .dataframe tbody tr th {\n",
       "        vertical-align: top;\n",
       "    }\n",
       "\n",
       "    .dataframe thead th {\n",
       "        text-align: right;\n",
       "    }\n",
       "</style>\n",
       "<table border=\"1\" class=\"dataframe\">\n",
       "  <thead>\n",
       "    <tr style=\"text-align: right;\">\n",
       "      <th></th>\n",
       "      <th>Unnamed: 0</th>\n",
       "      <th>Text</th>\n",
       "      <th>Grade</th>\n",
       "      <th>numOfComments</th>\n",
       "      <th>Time</th>\n",
       "    </tr>\n",
       "  </thead>\n",
       "  <tbody>\n",
       "    <tr>\n",
       "      <th>0</th>\n",
       "      <td>0</td>\n",
       "      <td>\\n\\t\\t\\t\\t\\t\\t\\tИзменили дату платежа по креди...</td>\n",
       "      <td>\\n\\t\\t\\t1\\n\\t\\t</td>\n",
       "      <td>1</td>\n",
       "      <td>28.03.2020 15:20</td>\n",
       "    </tr>\n",
       "    <tr>\n",
       "      <th>1</th>\n",
       "      <td>1</td>\n",
       "      <td>\\n\\t\\t\\t\\t\\t\\t\\tЕще не так давно Альфа-банком ...</td>\n",
       "      <td>\\n\\t\\t\\t1\\n\\t\\t</td>\n",
       "      <td>1</td>\n",
       "      <td>28.03.2020 14:33</td>\n",
       "    </tr>\n",
       "    <tr>\n",
       "      <th>2</th>\n",
       "      <td>2</td>\n",
       "      <td>\\n\\t\\t\\t\\t\\t\\t\\tУважаемый Альфа Банк! Снова ра...</td>\n",
       "      <td>\\n\\t\\t\\t1\\n\\t\\t</td>\n",
       "      <td>0</td>\n",
       "      <td>28.03.2020 11:39</td>\n",
       "    </tr>\n",
       "    <tr>\n",
       "      <th>3</th>\n",
       "      <td>3</td>\n",
       "      <td>\\n\\t\\t\\t\\t\\t\\t\\tВообщем по рекомендации знаком...</td>\n",
       "      <td>\\n\\t\\t\\t1\\n\\t\\t</td>\n",
       "      <td>0</td>\n",
       "      <td>28.03.2020 10:36</td>\n",
       "    </tr>\n",
       "    <tr>\n",
       "      <th>4</th>\n",
       "      <td>4</td>\n",
       "      <td>\\n\\t\\t\\t\\t\\t\\t\\tХочу поделиться соим опытом.У ...</td>\n",
       "      <td>\\n\\t\\t\\t1\\n\\t\\t</td>\n",
       "      <td>0</td>\n",
       "      <td>28.03.2020 9:43</td>\n",
       "    </tr>\n",
       "    <tr>\n",
       "      <th>5</th>\n",
       "      <td>5</td>\n",
       "      <td>NaN</td>\n",
       "      <td>\\n\\t\\t\\t1\\n\\t\\t</td>\n",
       "      <td>0</td>\n",
       "      <td>NaN</td>\n",
       "    </tr>\n",
       "    <tr>\n",
       "      <th>6</th>\n",
       "      <td>6</td>\n",
       "      <td>\\n\\t\\t\\t\\t\\t\\t\\tПохвастаюсь!Да, я получил мину...</td>\n",
       "      <td>\\n\\t\\t\\t1\\n\\t\\t</td>\n",
       "      <td>0</td>\n",
       "      <td>28.03.2020 1:09</td>\n",
       "    </tr>\n",
       "    <tr>\n",
       "      <th>7</th>\n",
       "      <td>7</td>\n",
       "      <td>\\n\\t\\t\\t\\t\\t\\t\\tЯ являюсь клиентом Альфа-Банка...</td>\n",
       "      <td>\\n\\t\\t\\t1\\n\\t\\t</td>\n",
       "      <td>0</td>\n",
       "      <td>27.03.2020 23:26</td>\n",
       "    </tr>\n",
       "    <tr>\n",
       "      <th>8</th>\n",
       "      <td>8</td>\n",
       "      <td>\\n\\t\\t\\t\\t\\t\\t\\tВ рамках декларационной кампан...</td>\n",
       "      <td>\\n\\t\\t\\t1\\n\\t\\t</td>\n",
       "      <td>0</td>\n",
       "      <td>27.03.2020 22:58</td>\n",
       "    </tr>\n",
       "    <tr>\n",
       "      <th>9</th>\n",
       "      <td>9</td>\n",
       "      <td>\\n\\t\\t\\t\\t\\t\\t\\tАльфа банк. Вы реально молодцы...</td>\n",
       "      <td>\\n\\t\\t\\t1\\n\\t\\t</td>\n",
       "      <td>1</td>\n",
       "      <td>27.03.2020 21:43</td>\n",
       "    </tr>\n",
       "  </tbody>\n",
       "</table>\n",
       "</div>"
      ],
      "text/plain": [
       "   Unnamed: 0                                               Text  \\\n",
       "0           0  \\n\\t\\t\\t\\t\\t\\t\\tИзменили дату платежа по креди...   \n",
       "1           1  \\n\\t\\t\\t\\t\\t\\t\\tЕще не так давно Альфа-банком ...   \n",
       "2           2  \\n\\t\\t\\t\\t\\t\\t\\tУважаемый Альфа Банк! Снова ра...   \n",
       "3           3  \\n\\t\\t\\t\\t\\t\\t\\tВообщем по рекомендации знаком...   \n",
       "4           4  \\n\\t\\t\\t\\t\\t\\t\\tХочу поделиться соим опытом.У ...   \n",
       "5           5                                                NaN   \n",
       "6           6  \\n\\t\\t\\t\\t\\t\\t\\tПохвастаюсь!Да, я получил мину...   \n",
       "7           7  \\n\\t\\t\\t\\t\\t\\t\\tЯ являюсь клиентом Альфа-Банка...   \n",
       "8           8  \\n\\t\\t\\t\\t\\t\\t\\tВ рамках декларационной кампан...   \n",
       "9           9  \\n\\t\\t\\t\\t\\t\\t\\tАльфа банк. Вы реально молодцы...   \n",
       "\n",
       "             Grade  numOfComments              Time  \n",
       "0  \\n\\t\\t\\t1\\n\\t\\t              1  28.03.2020 15:20  \n",
       "1  \\n\\t\\t\\t1\\n\\t\\t              1  28.03.2020 14:33  \n",
       "2  \\n\\t\\t\\t1\\n\\t\\t              0  28.03.2020 11:39  \n",
       "3  \\n\\t\\t\\t1\\n\\t\\t              0  28.03.2020 10:36  \n",
       "4  \\n\\t\\t\\t1\\n\\t\\t              0   28.03.2020 9:43  \n",
       "5  \\n\\t\\t\\t1\\n\\t\\t              0               NaN  \n",
       "6  \\n\\t\\t\\t1\\n\\t\\t              0   28.03.2020 1:09  \n",
       "7  \\n\\t\\t\\t1\\n\\t\\t              0  27.03.2020 23:26  \n",
       "8  \\n\\t\\t\\t1\\n\\t\\t              0  27.03.2020 22:58  \n",
       "9  \\n\\t\\t\\t1\\n\\t\\t              1  27.03.2020 21:43  "
      ]
     },
     "execution_count": 5,
     "metadata": {},
     "output_type": "execute_result"
    }
   ],
   "source": [
    "data = pd.read_csv('result.csv')\n",
    "data.head(10)"
   ]
  },
  {
   "cell_type": "code",
   "execution_count": 6,
   "metadata": {},
   "outputs": [],
   "source": [
    "import re\n",
    "#Preprocess function\n",
    "def preprocess_text(text):\n",
    "    text = str(text)\n",
    "    text = text.lower()\n",
    "    text = re.sub(r'[,.!;?:)(]', ' ', text)\n",
    "    text = ''.join(re.findall(r'[А-я0-9 ,;!.]+', text))\n",
    "    return text"
   ]
  },
  {
   "cell_type": "code",
   "execution_count": 7,
   "metadata": {
    "scrolled": true
   },
   "outputs": [
    {
     "name": "stderr",
     "output_type": "stream",
     "text": [
      "100%|██████████| 37350/37350 [00:01<00:00, 20002.35it/s]\n",
      "100%|██████████| 37350/37350 [00:00<00:00, 506550.26it/s]\n"
     ]
    },
    {
     "data": {
      "text/html": [
       "<div>\n",
       "<style scoped>\n",
       "    .dataframe tbody tr th:only-of-type {\n",
       "        vertical-align: middle;\n",
       "    }\n",
       "\n",
       "    .dataframe tbody tr th {\n",
       "        vertical-align: top;\n",
       "    }\n",
       "\n",
       "    .dataframe thead th {\n",
       "        text-align: right;\n",
       "    }\n",
       "</style>\n",
       "<table border=\"1\" class=\"dataframe\">\n",
       "  <thead>\n",
       "    <tr style=\"text-align: right;\">\n",
       "      <th></th>\n",
       "      <th>Unnamed: 0</th>\n",
       "      <th>Text</th>\n",
       "      <th>Grade</th>\n",
       "      <th>numOfComments</th>\n",
       "      <th>Time</th>\n",
       "    </tr>\n",
       "  </thead>\n",
       "  <tbody>\n",
       "    <tr>\n",
       "      <th>0</th>\n",
       "      <td>0</td>\n",
       "      <td>изменили дату платежа по кредиту  сместив на 0...</td>\n",
       "      <td>1</td>\n",
       "      <td>1</td>\n",
       "      <td>28.03.2020 15:20</td>\n",
       "    </tr>\n",
       "    <tr>\n",
       "      <th>1</th>\n",
       "      <td>1</td>\n",
       "      <td>еще не так давно альфабанком начали пользовать...</td>\n",
       "      <td>1</td>\n",
       "      <td>1</td>\n",
       "      <td>28.03.2020 14:33</td>\n",
       "    </tr>\n",
       "    <tr>\n",
       "      <th>2</th>\n",
       "      <td>2</td>\n",
       "      <td>уважаемый альфа банк снова разочаровывает ваша...</td>\n",
       "      <td>1</td>\n",
       "      <td>0</td>\n",
       "      <td>28.03.2020 11:39</td>\n",
       "    </tr>\n",
       "    <tr>\n",
       "      <th>3</th>\n",
       "      <td>3</td>\n",
       "      <td>вообщем по рекомендации знакомого подал заявку...</td>\n",
       "      <td>1</td>\n",
       "      <td>0</td>\n",
       "      <td>28.03.2020 10:36</td>\n",
       "    </tr>\n",
       "    <tr>\n",
       "      <th>4</th>\n",
       "      <td>4</td>\n",
       "      <td>хочу поделиться соим опытом у меня было и есть...</td>\n",
       "      <td>1</td>\n",
       "      <td>0</td>\n",
       "      <td>28.03.2020 9:43</td>\n",
       "    </tr>\n",
       "  </tbody>\n",
       "</table>\n",
       "</div>"
      ],
      "text/plain": [
       "   Unnamed: 0                                               Text Grade  \\\n",
       "0           0  изменили дату платежа по кредиту  сместив на 0...     1   \n",
       "1           1  еще не так давно альфабанком начали пользовать...     1   \n",
       "2           2  уважаемый альфа банк снова разочаровывает ваша...     1   \n",
       "3           3  вообщем по рекомендации знакомого подал заявку...     1   \n",
       "4           4  хочу поделиться соим опытом у меня было и есть...     1   \n",
       "\n",
       "   numOfComments              Time  \n",
       "0              1  28.03.2020 15:20  \n",
       "1              1  28.03.2020 14:33  \n",
       "2              0  28.03.2020 11:39  \n",
       "3              0  28.03.2020 10:36  \n",
       "4              0   28.03.2020 9:43  "
      ]
     },
     "execution_count": 7,
     "metadata": {},
     "output_type": "execute_result"
    }
   ],
   "source": [
    "tqdm.pandas()\n",
    "data['Text'] = data['Text'].progress_apply(lambda x : preprocess_text(x))\n",
    "data['Grade'] = data['Grade'].progress_apply(lambda x : str(x).strip())\n",
    "data.head()"
   ]
  },
  {
   "cell_type": "code",
   "execution_count": 8,
   "metadata": {},
   "outputs": [],
   "source": [
    "data.drop('Unnamed: 0', axis=1, inplace=True)"
   ]
  },
  {
   "cell_type": "code",
   "execution_count": 9,
   "metadata": {},
   "outputs": [
    {
     "name": "stderr",
     "output_type": "stream",
     "text": [
      "100%|██████████| 37350/37350 [00:00<00:00, 415995.51it/s]\n"
     ]
    },
    {
     "data": {
      "text/html": [
       "<div>\n",
       "<style scoped>\n",
       "    .dataframe tbody tr th:only-of-type {\n",
       "        vertical-align: middle;\n",
       "    }\n",
       "\n",
       "    .dataframe tbody tr th {\n",
       "        vertical-align: top;\n",
       "    }\n",
       "\n",
       "    .dataframe thead th {\n",
       "        text-align: right;\n",
       "    }\n",
       "</style>\n",
       "<table border=\"1\" class=\"dataframe\">\n",
       "  <thead>\n",
       "    <tr style=\"text-align: right;\">\n",
       "      <th></th>\n",
       "      <th>Text</th>\n",
       "      <th>Grade</th>\n",
       "      <th>numOfComments</th>\n",
       "      <th>Time</th>\n",
       "    </tr>\n",
       "  </thead>\n",
       "  <tbody>\n",
       "    <tr>\n",
       "      <th>0</th>\n",
       "      <td>изменили дату платежа по кредиту  сместив на 0...</td>\n",
       "      <td>0</td>\n",
       "      <td>1</td>\n",
       "      <td>28.03.2020 15:20</td>\n",
       "    </tr>\n",
       "    <tr>\n",
       "      <th>1</th>\n",
       "      <td>еще не так давно альфабанком начали пользовать...</td>\n",
       "      <td>0</td>\n",
       "      <td>1</td>\n",
       "      <td>28.03.2020 14:33</td>\n",
       "    </tr>\n",
       "    <tr>\n",
       "      <th>2</th>\n",
       "      <td>уважаемый альфа банк снова разочаровывает ваша...</td>\n",
       "      <td>0</td>\n",
       "      <td>0</td>\n",
       "      <td>28.03.2020 11:39</td>\n",
       "    </tr>\n",
       "    <tr>\n",
       "      <th>3</th>\n",
       "      <td>вообщем по рекомендации знакомого подал заявку...</td>\n",
       "      <td>0</td>\n",
       "      <td>0</td>\n",
       "      <td>28.03.2020 10:36</td>\n",
       "    </tr>\n",
       "    <tr>\n",
       "      <th>4</th>\n",
       "      <td>хочу поделиться соим опытом у меня было и есть...</td>\n",
       "      <td>0</td>\n",
       "      <td>0</td>\n",
       "      <td>28.03.2020 9:43</td>\n",
       "    </tr>\n",
       "    <tr>\n",
       "      <th>5</th>\n",
       "      <td></td>\n",
       "      <td>0</td>\n",
       "      <td>0</td>\n",
       "      <td>NaN</td>\n",
       "    </tr>\n",
       "    <tr>\n",
       "      <th>6</th>\n",
       "      <td>похвастаюсь да  я получил минус 100 с лишним б...</td>\n",
       "      <td>0</td>\n",
       "      <td>0</td>\n",
       "      <td>28.03.2020 1:09</td>\n",
       "    </tr>\n",
       "    <tr>\n",
       "      <th>7</th>\n",
       "      <td>я являюсь клиентом альфабанка уже много лет и ...</td>\n",
       "      <td>0</td>\n",
       "      <td>0</td>\n",
       "      <td>27.03.2020 23:26</td>\n",
       "    </tr>\n",
       "    <tr>\n",
       "      <th>8</th>\n",
       "      <td>в рамках декларационной кампании я обратилась ...</td>\n",
       "      <td>0</td>\n",
       "      <td>0</td>\n",
       "      <td>27.03.2020 22:58</td>\n",
       "    </tr>\n",
       "    <tr>\n",
       "      <th>9</th>\n",
       "      <td>альфа банк  вы реально молодцы  исполняете ука...</td>\n",
       "      <td>0</td>\n",
       "      <td>1</td>\n",
       "      <td>27.03.2020 21:43</td>\n",
       "    </tr>\n",
       "    <tr>\n",
       "      <th>10</th>\n",
       "      <td>решил взять потребительский кредит  другие бан...</td>\n",
       "      <td>0</td>\n",
       "      <td>0</td>\n",
       "      <td>27.03.2020 21:28</td>\n",
       "    </tr>\n",
       "    <tr>\n",
       "      <th>11</th>\n",
       "      <td>заказал дебетовку по инету  пришла смс что мог...</td>\n",
       "      <td>0</td>\n",
       "      <td>2</td>\n",
       "      <td>27.03.2020 19:26</td>\n",
       "    </tr>\n",
       "    <tr>\n",
       "      <th>12</th>\n",
       "      <td>в продолжение первого отзыва  хочу поблагодари...</td>\n",
       "      <td>1</td>\n",
       "      <td>1</td>\n",
       "      <td>27.03.2020 19:25</td>\n",
       "    </tr>\n",
       "    <tr>\n",
       "      <th>13</th>\n",
       "      <td>939  8561328561323332101363  являюсь клиентом...</td>\n",
       "      <td>0</td>\n",
       "      <td>0</td>\n",
       "      <td>27.03.2020 18:56</td>\n",
       "    </tr>\n",
       "    <tr>\n",
       "      <th>14</th>\n",
       "      <td>никогда не являлся клиентом альфабанка  но пос...</td>\n",
       "      <td>0</td>\n",
       "      <td>1</td>\n",
       "      <td>27.03.2020 17:13</td>\n",
       "    </tr>\n",
       "    <tr>\n",
       "      <th>15</th>\n",
       "      <td>добрый день сегодня  27 марта 2020 года  приме...</td>\n",
       "      <td>-1</td>\n",
       "      <td>0</td>\n",
       "      <td>27.03.2020 15:56</td>\n",
       "    </tr>\n",
       "    <tr>\n",
       "      <th>16</th>\n",
       "      <td>через сайт подал заявку на ипотеку  в первый д...</td>\n",
       "      <td>0</td>\n",
       "      <td>0</td>\n",
       "      <td>27.03.2020 15:52</td>\n",
       "    </tr>\n",
       "    <tr>\n",
       "      <th>17</th>\n",
       "      <td>у мужа после увольнения с работы осталась рабо...</td>\n",
       "      <td>0</td>\n",
       "      <td>0</td>\n",
       "      <td>27.03.2020 15:18</td>\n",
       "    </tr>\n",
       "    <tr>\n",
       "      <th>18</th>\n",
       "      <td>здравствуйте  центро банк  примите пожалуйста ...</td>\n",
       "      <td>0</td>\n",
       "      <td>1</td>\n",
       "      <td>27.03.2020 14:41</td>\n",
       "    </tr>\n",
       "    <tr>\n",
       "      <th>19</th>\n",
       "      <td>выражаю особую благодарность вип менеджеру по ...</td>\n",
       "      <td>1</td>\n",
       "      <td>0</td>\n",
       "      <td>27.03.2020 14:48</td>\n",
       "    </tr>\n",
       "  </tbody>\n",
       "</table>\n",
       "</div>"
      ],
      "text/plain": [
       "                                                 Text  Grade  numOfComments  \\\n",
       "0   изменили дату платежа по кредиту  сместив на 0...      0              1   \n",
       "1   еще не так давно альфабанком начали пользовать...      0              1   \n",
       "2   уважаемый альфа банк снова разочаровывает ваша...      0              0   \n",
       "3   вообщем по рекомендации знакомого подал заявку...      0              0   \n",
       "4   хочу поделиться соим опытом у меня было и есть...      0              0   \n",
       "5                                                          0              0   \n",
       "6   похвастаюсь да  я получил минус 100 с лишним б...      0              0   \n",
       "7   я являюсь клиентом альфабанка уже много лет и ...      0              0   \n",
       "8   в рамках декларационной кампании я обратилась ...      0              0   \n",
       "9   альфа банк  вы реально молодцы  исполняете ука...      0              1   \n",
       "10  решил взять потребительский кредит  другие бан...      0              0   \n",
       "11  заказал дебетовку по инету  пришла смс что мог...      0              2   \n",
       "12  в продолжение первого отзыва  хочу поблагодари...      1              1   \n",
       "13   939  8561328561323332101363  являюсь клиентом...      0              0   \n",
       "14  никогда не являлся клиентом альфабанка  но пос...      0              1   \n",
       "15  добрый день сегодня  27 марта 2020 года  приме...     -1              0   \n",
       "16  через сайт подал заявку на ипотеку  в первый д...      0              0   \n",
       "17  у мужа после увольнения с работы осталась рабо...      0              0   \n",
       "18  здравствуйте  центро банк  примите пожалуйста ...      0              1   \n",
       "19  выражаю особую благодарность вип менеджеру по ...      1              0   \n",
       "\n",
       "                Time  \n",
       "0   28.03.2020 15:20  \n",
       "1   28.03.2020 14:33  \n",
       "2   28.03.2020 11:39  \n",
       "3   28.03.2020 10:36  \n",
       "4    28.03.2020 9:43  \n",
       "5                NaN  \n",
       "6    28.03.2020 1:09  \n",
       "7   27.03.2020 23:26  \n",
       "8   27.03.2020 22:58  \n",
       "9   27.03.2020 21:43  \n",
       "10  27.03.2020 21:28  \n",
       "11  27.03.2020 19:26  \n",
       "12  27.03.2020 19:25  \n",
       "13  27.03.2020 18:56  \n",
       "14  27.03.2020 17:13  \n",
       "15  27.03.2020 15:56  \n",
       "16  27.03.2020 15:52  \n",
       "17  27.03.2020 15:18  \n",
       "18  27.03.2020 14:41  \n",
       "19  27.03.2020 14:48  "
      ]
     },
     "execution_count": 9,
     "metadata": {},
     "output_type": "execute_result"
    }
   ],
   "source": [
    "def grade_process(grade):\n",
    "    if grade=='Без оценки':\n",
    "        return -1\n",
    "    try:\n",
    "        grade = int(grade)\n",
    "        if grade > 3:\n",
    "            return 1\n",
    "        else:\n",
    "            return 0\n",
    "    except:\n",
    "        return -1\n",
    "data['Grade'] = data['Grade'].progress_apply(grade_process)\n",
    "data.head(20)"
   ]
  },
  {
   "cell_type": "code",
   "execution_count": 10,
   "metadata": {},
   "outputs": [
    {
     "data": {
      "text/html": [
       "<div>\n",
       "<style scoped>\n",
       "    .dataframe tbody tr th:only-of-type {\n",
       "        vertical-align: middle;\n",
       "    }\n",
       "\n",
       "    .dataframe tbody tr th {\n",
       "        vertical-align: top;\n",
       "    }\n",
       "\n",
       "    .dataframe thead th {\n",
       "        text-align: right;\n",
       "    }\n",
       "</style>\n",
       "<table border=\"1\" class=\"dataframe\">\n",
       "  <thead>\n",
       "    <tr style=\"text-align: right;\">\n",
       "      <th></th>\n",
       "      <th>Text</th>\n",
       "      <th>Grade</th>\n",
       "      <th>numOfComments</th>\n",
       "      <th>Time</th>\n",
       "    </tr>\n",
       "  </thead>\n",
       "  <tbody>\n",
       "    <tr>\n",
       "      <th>0</th>\n",
       "      <td>изменили дату платежа по кредиту  сместив на 0...</td>\n",
       "      <td>0</td>\n",
       "      <td>1</td>\n",
       "      <td>28.03.2020 15:20</td>\n",
       "    </tr>\n",
       "    <tr>\n",
       "      <th>1</th>\n",
       "      <td>еще не так давно альфабанком начали пользовать...</td>\n",
       "      <td>0</td>\n",
       "      <td>1</td>\n",
       "      <td>28.03.2020 14:33</td>\n",
       "    </tr>\n",
       "    <tr>\n",
       "      <th>2</th>\n",
       "      <td>уважаемый альфа банк снова разочаровывает ваша...</td>\n",
       "      <td>0</td>\n",
       "      <td>0</td>\n",
       "      <td>28.03.2020 11:39</td>\n",
       "    </tr>\n",
       "    <tr>\n",
       "      <th>3</th>\n",
       "      <td>вообщем по рекомендации знакомого подал заявку...</td>\n",
       "      <td>0</td>\n",
       "      <td>0</td>\n",
       "      <td>28.03.2020 10:36</td>\n",
       "    </tr>\n",
       "    <tr>\n",
       "      <th>4</th>\n",
       "      <td>хочу поделиться соим опытом у меня было и есть...</td>\n",
       "      <td>0</td>\n",
       "      <td>0</td>\n",
       "      <td>28.03.2020 9:43</td>\n",
       "    </tr>\n",
       "    <tr>\n",
       "      <th>6</th>\n",
       "      <td>похвастаюсь да  я получил минус 100 с лишним б...</td>\n",
       "      <td>0</td>\n",
       "      <td>0</td>\n",
       "      <td>28.03.2020 1:09</td>\n",
       "    </tr>\n",
       "    <tr>\n",
       "      <th>7</th>\n",
       "      <td>я являюсь клиентом альфабанка уже много лет и ...</td>\n",
       "      <td>0</td>\n",
       "      <td>0</td>\n",
       "      <td>27.03.2020 23:26</td>\n",
       "    </tr>\n",
       "    <tr>\n",
       "      <th>8</th>\n",
       "      <td>в рамках декларационной кампании я обратилась ...</td>\n",
       "      <td>0</td>\n",
       "      <td>0</td>\n",
       "      <td>27.03.2020 22:58</td>\n",
       "    </tr>\n",
       "    <tr>\n",
       "      <th>9</th>\n",
       "      <td>альфа банк  вы реально молодцы  исполняете ука...</td>\n",
       "      <td>0</td>\n",
       "      <td>1</td>\n",
       "      <td>27.03.2020 21:43</td>\n",
       "    </tr>\n",
       "    <tr>\n",
       "      <th>10</th>\n",
       "      <td>решил взять потребительский кредит  другие бан...</td>\n",
       "      <td>0</td>\n",
       "      <td>0</td>\n",
       "      <td>27.03.2020 21:28</td>\n",
       "    </tr>\n",
       "    <tr>\n",
       "      <th>11</th>\n",
       "      <td>заказал дебетовку по инету  пришла смс что мог...</td>\n",
       "      <td>0</td>\n",
       "      <td>2</td>\n",
       "      <td>27.03.2020 19:26</td>\n",
       "    </tr>\n",
       "    <tr>\n",
       "      <th>12</th>\n",
       "      <td>в продолжение первого отзыва  хочу поблагодари...</td>\n",
       "      <td>1</td>\n",
       "      <td>1</td>\n",
       "      <td>27.03.2020 19:25</td>\n",
       "    </tr>\n",
       "    <tr>\n",
       "      <th>13</th>\n",
       "      <td>939  8561328561323332101363  являюсь клиентом...</td>\n",
       "      <td>0</td>\n",
       "      <td>0</td>\n",
       "      <td>27.03.2020 18:56</td>\n",
       "    </tr>\n",
       "    <tr>\n",
       "      <th>14</th>\n",
       "      <td>никогда не являлся клиентом альфабанка  но пос...</td>\n",
       "      <td>0</td>\n",
       "      <td>1</td>\n",
       "      <td>27.03.2020 17:13</td>\n",
       "    </tr>\n",
       "    <tr>\n",
       "      <th>16</th>\n",
       "      <td>через сайт подал заявку на ипотеку  в первый д...</td>\n",
       "      <td>0</td>\n",
       "      <td>0</td>\n",
       "      <td>27.03.2020 15:52</td>\n",
       "    </tr>\n",
       "    <tr>\n",
       "      <th>17</th>\n",
       "      <td>у мужа после увольнения с работы осталась рабо...</td>\n",
       "      <td>0</td>\n",
       "      <td>0</td>\n",
       "      <td>27.03.2020 15:18</td>\n",
       "    </tr>\n",
       "    <tr>\n",
       "      <th>18</th>\n",
       "      <td>здравствуйте  центро банк  примите пожалуйста ...</td>\n",
       "      <td>0</td>\n",
       "      <td>1</td>\n",
       "      <td>27.03.2020 14:41</td>\n",
       "    </tr>\n",
       "    <tr>\n",
       "      <th>19</th>\n",
       "      <td>выражаю особую благодарность вип менеджеру по ...</td>\n",
       "      <td>1</td>\n",
       "      <td>0</td>\n",
       "      <td>27.03.2020 14:48</td>\n",
       "    </tr>\n",
       "    <tr>\n",
       "      <th>20</th>\n",
       "      <td>ситуация проста  закрыл карту в декабре 2019  ...</td>\n",
       "      <td>0</td>\n",
       "      <td>0</td>\n",
       "      <td>27.03.2020 13:42</td>\n",
       "    </tr>\n",
       "    <tr>\n",
       "      <th>21</th>\n",
       "      <td>25 03 2020 в своем обращении к населению  през...</td>\n",
       "      <td>0</td>\n",
       "      <td>1</td>\n",
       "      <td>27.03.2020 12:58</td>\n",
       "    </tr>\n",
       "  </tbody>\n",
       "</table>\n",
       "</div>"
      ],
      "text/plain": [
       "                                                 Text  Grade  numOfComments  \\\n",
       "0   изменили дату платежа по кредиту  сместив на 0...      0              1   \n",
       "1   еще не так давно альфабанком начали пользовать...      0              1   \n",
       "2   уважаемый альфа банк снова разочаровывает ваша...      0              0   \n",
       "3   вообщем по рекомендации знакомого подал заявку...      0              0   \n",
       "4   хочу поделиться соим опытом у меня было и есть...      0              0   \n",
       "6   похвастаюсь да  я получил минус 100 с лишним б...      0              0   \n",
       "7   я являюсь клиентом альфабанка уже много лет и ...      0              0   \n",
       "8   в рамках декларационной кампании я обратилась ...      0              0   \n",
       "9   альфа банк  вы реально молодцы  исполняете ука...      0              1   \n",
       "10  решил взять потребительский кредит  другие бан...      0              0   \n",
       "11  заказал дебетовку по инету  пришла смс что мог...      0              2   \n",
       "12  в продолжение первого отзыва  хочу поблагодари...      1              1   \n",
       "13   939  8561328561323332101363  являюсь клиентом...      0              0   \n",
       "14  никогда не являлся клиентом альфабанка  но пос...      0              1   \n",
       "16  через сайт подал заявку на ипотеку  в первый д...      0              0   \n",
       "17  у мужа после увольнения с работы осталась рабо...      0              0   \n",
       "18  здравствуйте  центро банк  примите пожалуйста ...      0              1   \n",
       "19  выражаю особую благодарность вип менеджеру по ...      1              0   \n",
       "20  ситуация проста  закрыл карту в декабре 2019  ...      0              0   \n",
       "21  25 03 2020 в своем обращении к населению  през...      0              1   \n",
       "\n",
       "                Time  \n",
       "0   28.03.2020 15:20  \n",
       "1   28.03.2020 14:33  \n",
       "2   28.03.2020 11:39  \n",
       "3   28.03.2020 10:36  \n",
       "4    28.03.2020 9:43  \n",
       "6    28.03.2020 1:09  \n",
       "7   27.03.2020 23:26  \n",
       "8   27.03.2020 22:58  \n",
       "9   27.03.2020 21:43  \n",
       "10  27.03.2020 21:28  \n",
       "11  27.03.2020 19:26  \n",
       "12  27.03.2020 19:25  \n",
       "13  27.03.2020 18:56  \n",
       "14  27.03.2020 17:13  \n",
       "16  27.03.2020 15:52  \n",
       "17  27.03.2020 15:18  \n",
       "18  27.03.2020 14:41  \n",
       "19  27.03.2020 14:48  \n",
       "20  27.03.2020 13:42  \n",
       "21  27.03.2020 12:58  "
      ]
     },
     "execution_count": 10,
     "metadata": {},
     "output_type": "execute_result"
    }
   ],
   "source": [
    "data = data[data['Text'].str.len() > 1]\n",
    "data = data[data['Grade'] != -1]\n",
    "data.head(20)"
   ]
  },
  {
   "cell_type": "code",
   "execution_count": 11,
   "metadata": {},
   "outputs": [
    {
     "data": {
      "text/plain": [
       "(0.2881901203819012, 0.7118098796180988)"
      ]
     },
     "execution_count": 11,
     "metadata": {},
     "output_type": "execute_result"
    }
   ],
   "source": [
    "len(data[data['Grade']==1])/len(data), len(data[data['Grade']==0])/len(data)"
   ]
  },
  {
   "cell_type": "code",
   "execution_count": 12,
   "metadata": {},
   "outputs": [
    {
     "data": {
      "text/plain": [
       "'изменили дату платежа по кредиту  сместив на 06 04 2020 соответственно пересчитали сумму процентов и погашения основного долга  при обращении в онлайн чат была получена стандартная отписка о выходных днях по указу 206 от 25 3 2020 и ссылкой на договор  альфабанк  в чем была сложность автоматически списать сумму в дату платежа  пошли по простому пути с выгодой для себя  ну и на по следок  прошу вернуть суммы списания процентов и основного долга в соответствии со старым графиком '"
      ]
     },
     "execution_count": 12,
     "metadata": {},
     "output_type": "execute_result"
    }
   ],
   "source": [
    "sentences = list(data['Text'])\n",
    "sentences[0]"
   ]
  },
  {
   "cell_type": "markdown",
   "metadata": {},
   "source": [
    "# MODEL 1"
   ]
  },
  {
   "cell_type": "code",
   "execution_count": 13,
   "metadata": {},
   "outputs": [],
   "source": [
    "from sklearn.ensemble import GradientBoostingClassifier\n",
    "from sklearn.feature_extraction.text import CountVectorizer\n",
    "from sklearn.metrics import f1_score\n",
    "from sklearn.model_selection import GridSearchCV\n",
    "from sklearn.model_selection import train_test_split\n",
    "from sklearn.metrics import make_scorer\n",
    "from sklearn.metrics import accuracy_score"
   ]
  },
  {
   "cell_type": "code",
   "execution_count": 14,
   "metadata": {},
   "outputs": [],
   "source": [
    "\n",
    "vectorizer = CountVectorizer()\n",
    "\n",
    "scoring = {'F1_score': make_scorer(f1_score), 'Accuracy': make_scorer(accuracy_score)}\n",
    "parameters = {\n",
    "    \"learning_rate\": [0.1, 0.25],\n",
    "    \"min_samples_split\": [2, 4],\n",
    "    \"min_samples_leaf\": [2, 4],\n",
    "    \"max_depth\":[3, 5],\n",
    "    \"max_features\":[\"sqrt\", None],\n",
    "    \"subsample\":[0.5, 1.0],\n",
    "    \"n_estimators\":[10, 100]\n",
    "    }\n",
    "\n",
    "clf = GridSearchCV(GradientBoostingClassifier(), parameters, scoring=scoring, verbose=1,refit='F1_score', cv=5, n_jobs=-1)"
   ]
  },
  {
   "cell_type": "code",
   "execution_count": 15,
   "metadata": {},
   "outputs": [],
   "source": [
    "y = data['Grade'].values\n",
    "sentences_train, sentences_test, y_train, y_test = train_test_split(sentences, y, test_size=0.2)\n"
   ]
  },
  {
   "cell_type": "code",
   "execution_count": 16,
   "metadata": {},
   "outputs": [],
   "source": [
    "vectorizer = CountVectorizer()\n",
    "vectorizer.fit(sentences_train)\n",
    "X_train = vectorizer.transform(sentences_train)\n",
    "X_test  = vectorizer.transform(sentences_test)"
   ]
  },
  {
   "cell_type": "code",
   "execution_count": null,
   "metadata": {},
   "outputs": [],
   "source": [
    "\n",
    "\n",
    "\n",
    "clf.fit(X_train, y_train)\n",
    "\n"
   ]
  },
  {
   "cell_type": "code",
   "execution_count": 18,
   "metadata": {},
   "outputs": [
    {
     "data": {
      "text/plain": [
       "{'learning_rate': 0.25,\n",
       " 'max_depth': 5,\n",
       " 'max_features': 'sqrt',\n",
       " 'min_samples_leaf': 4,\n",
       " 'min_samples_split': 2,\n",
       " 'n_estimators': 100,\n",
       " 'subsample': 1.0}"
      ]
     },
     "execution_count": 18,
     "metadata": {},
     "output_type": "execute_result"
    }
   ],
   "source": [
    "clf.best_params_"
   ]
  },
  {
   "cell_type": "code",
   "execution_count": 19,
   "metadata": {},
   "outputs": [
    {
     "name": "stdout",
     "output_type": "stream",
     "text": [
      "ACCURACY :  0.9667877529839128\n"
     ]
    }
   ],
   "source": [
    "print(\"ACCURACY : \", accuracy_score(y_train, clf.predict(X_train)))"
   ]
  },
  {
   "cell_type": "code",
   "execution_count": 20,
   "metadata": {},
   "outputs": [
    {
     "name": "stdout",
     "output_type": "stream",
     "text": [
      "ACCURACY :  0.9512448132780082\n"
     ]
    }
   ],
   "source": [
    "print(\"ACCURACY : \", accuracy_score(y_test, clf.predict(X_test)))"
   ]
  },
  {
   "cell_type": "code",
   "execution_count": 21,
   "metadata": {
    "scrolled": true
   },
   "outputs": [
    {
     "name": "stdout",
     "output_type": "stream",
     "text": [
      "F1_SCORE:  0.9394226218646475\n"
     ]
    }
   ],
   "source": [
    "print(\"F1_SCORE: \", f1_score(y_train, clf.predict(X_train)))"
   ]
  },
  {
   "cell_type": "code",
   "execution_count": 22,
   "metadata": {},
   "outputs": [
    {
     "name": "stdout",
     "output_type": "stream",
     "text": [
      "F1_SCORE:  0.9090909090909092\n"
     ]
    }
   ],
   "source": [
    "print(\"F1_SCORE: \", f1_score(y_test, clf.predict(X_test)))"
   ]
  },
  {
   "cell_type": "markdown",
   "metadata": {},
   "source": [
    "### Переобучается, уменьшим глубину"
   ]
  },
  {
   "cell_type": "code",
   "execution_count": 23,
   "metadata": {},
   "outputs": [],
   "source": [
    "parameters = {\n",
    "    \"learning_rate\": [0.1, 0.25],\n",
    "    \"min_samples_split\": [2, 4],\n",
    "    \"min_samples_leaf\": [2, 4],\n",
    "    \"max_depth\":[3],\n",
    "    \"max_features\":[\"sqrt\", None],\n",
    "    \"subsample\":[0.5, 1.0],\n",
    "    \"n_estimators\":[10, 100]\n",
    "    }\n",
    "\n",
    "clf = GridSearchCV(GradientBoostingClassifier(), parameters, scoring=scoring, verbose=1,refit='F1_score', cv=5, n_jobs=-1)"
   ]
  },
  {
   "cell_type": "code",
   "execution_count": 24,
   "metadata": {},
   "outputs": [
    {
     "name": "stdout",
     "output_type": "stream",
     "text": [
      "Fitting 5 folds for each of 64 candidates, totalling 320 fits\n"
     ]
    },
    {
     "name": "stderr",
     "output_type": "stream",
     "text": [
      "[Parallel(n_jobs=-1)]: Using backend LokyBackend with 8 concurrent workers.\n",
      "[Parallel(n_jobs=-1)]: Done  34 tasks      | elapsed:   12.6s\n",
      "[Parallel(n_jobs=-1)]: Done 184 tasks      | elapsed:  3.6min\n",
      "[Parallel(n_jobs=-1)]: Done 320 out of 320 | elapsed:  7.2min finished\n"
     ]
    },
    {
     "data": {
      "text/plain": [
       "GridSearchCV(cv=5, error_score='raise-deprecating',\n",
       "             estimator=GradientBoostingClassifier(criterion='friedman_mse',\n",
       "                                                  init=None, learning_rate=0.1,\n",
       "                                                  loss='deviance', max_depth=3,\n",
       "                                                  max_features=None,\n",
       "                                                  max_leaf_nodes=None,\n",
       "                                                  min_impurity_decrease=0.0,\n",
       "                                                  min_impurity_split=None,\n",
       "                                                  min_samples_leaf=1,\n",
       "                                                  min_samples_split=2,\n",
       "                                                  min_weight_fraction_leaf=0.0,\n",
       "                                                  n_estimators=100,\n",
       "                                                  n_iter_no...\n",
       "             iid='warn', n_jobs=-1,\n",
       "             param_grid={'learning_rate': [0.1, 0.25], 'max_depth': [3],\n",
       "                         'max_features': ['sqrt', None],\n",
       "                         'min_samples_leaf': [2, 4],\n",
       "                         'min_samples_split': [2, 4], 'n_estimators': [10, 100],\n",
       "                         'subsample': [0.5, 1.0]},\n",
       "             pre_dispatch='2*n_jobs', refit='F1_score',\n",
       "             return_train_score=False,\n",
       "             scoring={'Accuracy': make_scorer(accuracy_score),\n",
       "                      'F1_score': make_scorer(f1_score)},\n",
       "             verbose=1)"
      ]
     },
     "execution_count": 24,
     "metadata": {},
     "output_type": "execute_result"
    }
   ],
   "source": [
    "y = data['Grade'].values\n",
    "clf.fit(X_train, y_train)\n"
   ]
  },
  {
   "cell_type": "code",
   "execution_count": 25,
   "metadata": {},
   "outputs": [
    {
     "data": {
      "text/plain": [
       "{'learning_rate': 0.25,\n",
       " 'max_depth': 3,\n",
       " 'max_features': None,\n",
       " 'min_samples_leaf': 4,\n",
       " 'min_samples_split': 2,\n",
       " 'n_estimators': 100,\n",
       " 'subsample': 1.0}"
      ]
     },
     "execution_count": 25,
     "metadata": {},
     "output_type": "execute_result"
    }
   ],
   "source": [
    "clf.best_params_"
   ]
  },
  {
   "cell_type": "code",
   "execution_count": 26,
   "metadata": {},
   "outputs": [
    {
     "name": "stdout",
     "output_type": "stream",
     "text": [
      "ACCURACY :  0.9743124026984951\n"
     ]
    }
   ],
   "source": [
    "print(\"ACCURACY : \", accuracy_score(y_train, clf.predict(X_train)))"
   ]
  },
  {
   "cell_type": "code",
   "execution_count": 27,
   "metadata": {},
   "outputs": [
    {
     "name": "stdout",
     "output_type": "stream",
     "text": [
      "ACCURACY :  0.9470954356846473\n"
     ]
    }
   ],
   "source": [
    "print(\"ACCURACY : \", accuracy_score(y_test, clf.predict(X_test)))"
   ]
  },
  {
   "cell_type": "code",
   "execution_count": 28,
   "metadata": {},
   "outputs": [
    {
     "name": "stdout",
     "output_type": "stream",
     "text": [
      "F1_SCORE:  0.954124189063948\n"
     ]
    }
   ],
   "source": [
    "print(\"F1_SCORE: \", f1_score(y_train, clf.predict(X_train)))"
   ]
  },
  {
   "cell_type": "code",
   "execution_count": 29,
   "metadata": {},
   "outputs": [
    {
     "name": "stdout",
     "output_type": "stream",
     "text": [
      "F1_SCORE:  0.9022988505747126\n"
     ]
    }
   ],
   "source": [
    "print(\"F1_SCORE: \", f1_score(y_test, clf.predict(X_test)))"
   ]
  },
  {
   "cell_type": "markdown",
   "metadata": {},
   "source": [
    "### Эта модель с лучшим F1_score среди всех с макс глубиной 3, но она переобучилась еще сильнее. Возьмем первую модель"
   ]
  },
  {
   "cell_type": "code",
   "execution_count": 18,
   "metadata": {},
   "outputs": [
    {
     "data": {
      "text/plain": [
       "GradientBoostingClassifier(criterion='friedman_mse', init=None,\n",
       "                           learning_rate=0.25, loss='deviance', max_depth=5,\n",
       "                           max_features='sqrt', max_leaf_nodes=None,\n",
       "                           min_impurity_decrease=0.0, min_impurity_split=None,\n",
       "                           min_samples_leaf=4, min_samples_split=2,\n",
       "                           min_weight_fraction_leaf=0.0, n_estimators=100,\n",
       "                           n_iter_no_change=None, presort='auto',\n",
       "                           random_state=None, subsample=1.0, tol=0.0001,\n",
       "                           validation_fraction=0.1, verbose=0,\n",
       "                           warm_start=False)"
      ]
     },
     "execution_count": 18,
     "metadata": {},
     "output_type": "execute_result"
    }
   ],
   "source": [
    "gbc = GradientBoostingClassifier(learning_rate=0.25,\n",
    " max_depth=5,\n",
    " max_features='sqrt',\n",
    " min_samples_leaf=4,\n",
    " min_samples_split=2,\n",
    " n_estimators=100,\n",
    " subsample= 1.0)\n",
    "gbc.fit(X_train, y_train)"
   ]
  },
  {
   "cell_type": "code",
   "execution_count": 19,
   "metadata": {},
   "outputs": [],
   "source": [
    "from sklearn.metrics import precision_recall_curve\n",
    "# from sklearn.metrics import plot_precision_recall_curve\n",
    "import matplotlib.pyplot as plt\n",
    "precision, recall, thresholds = precision_recall_curve(y_test, gbc.predict_proba(X_test)[:, 1])"
   ]
  },
  {
   "cell_type": "code",
   "execution_count": 20,
   "metadata": {},
   "outputs": [
    {
     "data": {
      "image/png": "[encoded data removed]",
      "text/plain": [
       "<Figure size 432x288 with 1 Axes>"
      ]
     },
     "metadata": {
      "needs_background": "light"
     },
     "output_type": "display_data"
    }
   ],
   "source": [
    "%matplotlib inline\n",
    "plt.plot(recall, precision, marker='.', label='GradientBoostingClassifier')\n",
    "# axis labels\n",
    "plt.xlabel('Recall')\n",
    "plt.ylabel('Precision')\n",
    "# show the legend\n",
    "plt.legend()\n",
    "# show the plot\n",
    "plt.show()"
   ]
  },
  {
   "cell_type": "code",
   "execution_count": 21,
   "metadata": {},
   "outputs": [
    {
     "name": "stderr",
     "output_type": "stream",
     "text": [
      "100%|██████████| 1908/1908 [00:19<00:00, 96.55it/s]\n"
     ]
    },
    {
     "name": "stdout",
     "output_type": "stream",
     "text": [
      "BEST THRESHOLD WITH RESPECT TO F1_LOSS:  0.3243255021248853\n",
      "BEST F1_SCORE:  0.9223744292237445\n"
     ]
    },
    {
     "data": {
      "image/png": "[encoded data removed]",
      "text/plain": [
       "<Figure size 432x288 with 1 Axes>"
      ]
     },
     "metadata": {
      "needs_background": "light"
     },
     "output_type": "display_data"
    }
   ],
   "source": [
    "import matplotlib.pyplot as plt\n",
    "\n",
    "f1scores = list()\n",
    "def roundthreshold(x, th):\n",
    "    return (x[1] >= th)\n",
    "for th in tqdm(thresholds, total=len(thresholds)):\n",
    "    f1scores.append(f1_score(y_test, [roundthreshold(x, th) for x in gbc.predict_proba(X_test)]))\n",
    "plt.plot(thresholds, f1scores)\n",
    "print(\"BEST THRESHOLD WITH RESPECT TO F1_LOSS: \", thresholds[np.argmax(f1scores)])\n",
    "print(\"BEST F1_SCORE: \", np.max(f1scores))"
   ]
  },
  {
   "cell_type": "markdown",
   "metadata": {},
   "source": [
    "# MODEL 2"
   ]
  },
  {
   "cell_type": "code",
   "execution_count": 22,
   "metadata": {
    "scrolled": true
   },
   "outputs": [
    {
     "name": "stderr",
     "output_type": "stream",
     "text": [
      "Using TensorFlow backend.\n",
      "/usr/local/lib/python3.6/dist-packages/tensorflow/python/framework/dtypes.py:516: FutureWarning: Passing (type, 1) or '1type' as a synonym of type is deprecated; in a future version of numpy, it will be understood as (type, (1,)) / '(1,)type'.\n",
      "  _np_qint8 = np.dtype([(\"qint8\", np.int8, 1)])\n",
      "/usr/local/lib/python3.6/dist-packages/tensorflow/python/framework/dtypes.py:517: FutureWarning: Passing (type, 1) or '1type' as a synonym of type is deprecated; in a future version of numpy, it will be understood as (type, (1,)) / '(1,)type'.\n",
      "  _np_quint8 = np.dtype([(\"quint8\", np.uint8, 1)])\n",
      "/usr/local/lib/python3.6/dist-packages/tensorflow/python/framework/dtypes.py:518: FutureWarning: Passing (type, 1) or '1type' as a synonym of type is deprecated; in a future version of numpy, it will be understood as (type, (1,)) / '(1,)type'.\n",
      "  _np_qint16 = np.dtype([(\"qint16\", np.int16, 1)])\n",
      "/usr/local/lib/python3.6/dist-packages/tensorflow/python/framework/dtypes.py:519: FutureWarning: Passing (type, 1) or '1type' as a synonym of type is deprecated; in a future version of numpy, it will be understood as (type, (1,)) / '(1,)type'.\n",
      "  _np_quint16 = np.dtype([(\"quint16\", np.uint16, 1)])\n",
      "/usr/local/lib/python3.6/dist-packages/tensorflow/python/framework/dtypes.py:520: FutureWarning: Passing (type, 1) or '1type' as a synonym of type is deprecated; in a future version of numpy, it will be understood as (type, (1,)) / '(1,)type'.\n",
      "  _np_qint32 = np.dtype([(\"qint32\", np.int32, 1)])\n",
      "/usr/local/lib/python3.6/dist-packages/tensorflow/python/framework/dtypes.py:525: FutureWarning: Passing (type, 1) or '1type' as a synonym of type is deprecated; in a future version of numpy, it will be understood as (type, (1,)) / '(1,)type'.\n",
      "  np_resource = np.dtype([(\"resource\", np.ubyte, 1)])\n",
      "/usr/local/lib/python3.6/dist-packages/tensorboard/compat/tensorflow_stub/dtypes.py:541: FutureWarning: Passing (type, 1) or '1type' as a synonym of type is deprecated; in a future version of numpy, it will be understood as (type, (1,)) / '(1,)type'.\n",
      "  _np_qint8 = np.dtype([(\"qint8\", np.int8, 1)])\n",
      "/usr/local/lib/python3.6/dist-packages/tensorboard/compat/tensorflow_stub/dtypes.py:542: FutureWarning: Passing (type, 1) or '1type' as a synonym of type is deprecated; in a future version of numpy, it will be understood as (type, (1,)) / '(1,)type'.\n",
      "  _np_quint8 = np.dtype([(\"quint8\", np.uint8, 1)])\n",
      "/usr/local/lib/python3.6/dist-packages/tensorboard/compat/tensorflow_stub/dtypes.py:543: FutureWarning: Passing (type, 1) or '1type' as a synonym of type is deprecated; in a future version of numpy, it will be understood as (type, (1,)) / '(1,)type'.\n",
      "  _np_qint16 = np.dtype([(\"qint16\", np.int16, 1)])\n",
      "/usr/local/lib/python3.6/dist-packages/tensorboard/compat/tensorflow_stub/dtypes.py:544: FutureWarning: Passing (type, 1) or '1type' as a synonym of type is deprecated; in a future version of numpy, it will be understood as (type, (1,)) / '(1,)type'.\n",
      "  _np_quint16 = np.dtype([(\"quint16\", np.uint16, 1)])\n",
      "/usr/local/lib/python3.6/dist-packages/tensorboard/compat/tensorflow_stub/dtypes.py:545: FutureWarning: Passing (type, 1) or '1type' as a synonym of type is deprecated; in a future version of numpy, it will be understood as (type, (1,)) / '(1,)type'.\n",
      "  _np_qint32 = np.dtype([(\"qint32\", np.int32, 1)])\n",
      "/usr/local/lib/python3.6/dist-packages/tensorboard/compat/tensorflow_stub/dtypes.py:550: FutureWarning: Passing (type, 1) or '1type' as a synonym of type is deprecated; in a future version of numpy, it will be understood as (type, (1,)) / '(1,)type'.\n",
      "  np_resource = np.dtype([(\"resource\", np.ubyte, 1)])\n"
     ]
    },
    {
     "name": "stdout",
     "output_type": "stream",
     "text": [
      "Found 72379 unique tokens.\n"
     ]
    }
   ],
   "source": [
    "from keras.layers import *\n",
    "from keras.preprocessing.text import Tokenizer\n",
    "from keras.preprocessing.sequence import pad_sequences\n",
    "# The maximum number of words to be used. (most frequent)\n",
    "MAX_NB_WORDS = 50000\n",
    "# Max number of words in each complaint.\n",
    "MAX_SEQUENCE_LENGTH = 250\n",
    "# This is fixed.\n",
    "EMBEDDING_DIM = 100\n",
    "tokenizer = Tokenizer(num_words=MAX_NB_WORDS, filters='!\"#$%&()*+,-./:;<=>?@[\\]^_`{|}~', lower=True)\n",
    "tokenizer.fit_on_texts(sentences)\n",
    "word_index = tokenizer.word_index\n",
    "print('Found %s unique tokens.' % len(word_index))"
   ]
  },
  {
   "cell_type": "code",
   "execution_count": 23,
   "metadata": {},
   "outputs": [
    {
     "name": "stdout",
     "output_type": "stream",
     "text": [
      "Shape of data tensor: (7708, 250) (1928, 250)\n"
     ]
    }
   ],
   "source": [
    "X_train = tokenizer.texts_to_sequences(sentences_train)\n",
    "X_test = tokenizer.texts_to_sequences(sentences_test)\n",
    "X_train = pad_sequences(X_train, maxlen=MAX_SEQUENCE_LENGTH)\n",
    "X_test = pad_sequences(X_test, maxlen=MAX_SEQUENCE_LENGTH)\n",
    "print('Shape of data tensor:', X_train.shape, X_test.shape)"
   ]
  },
  {
   "cell_type": "code",
   "execution_count": 24,
   "metadata": {},
   "outputs": [],
   "source": [
    "Y_train = y_train\n",
    "Y_test = y_test"
   ]
  },
  {
   "cell_type": "code",
   "execution_count": 25,
   "metadata": {},
   "outputs": [
    {
     "name": "stdout",
     "output_type": "stream",
     "text": [
      "(7708, 250) (7708,)\n",
      "(1928, 250) (1928,)\n"
     ]
    }
   ],
   "source": [
    "# X_train, X_test, Y_train, Y_test = train_test_split(X,Y, test_size = 0.2)\n",
    "print(X_train.shape,Y_train.shape)\n",
    "print(X_test.shape,Y_test.shape)"
   ]
  },
  {
   "cell_type": "markdown",
   "metadata": {},
   "source": [
    "#### Обучим на нескольких LR. Число эпох определим путем EarlyStopping"
   ]
  },
  {
   "cell_type": "code",
   "execution_count": 43,
   "metadata": {},
   "outputs": [
    {
     "name": "stdout",
     "output_type": "stream",
     "text": [
      "Train on 6166 samples, validate on 1542 samples\n",
      "Epoch 1/10\n",
      "6166/6166 [==============================] - 27s 4ms/step - loss: 0.5639 - accuracy: 0.7368 - val_loss: 0.4172 - val_accuracy: 0.8463\n",
      "Epoch 2/10\n",
      "6166/6166 [==============================] - 27s 4ms/step - loss: 0.3358 - accuracy: 0.8951 - val_loss: 0.2992 - val_accuracy: 0.9189\n",
      "Epoch 3/10\n",
      "6166/6166 [==============================] - 27s 4ms/step - loss: 0.2396 - accuracy: 0.9382 - val_loss: 0.2619 - val_accuracy: 0.9280\n",
      "Epoch 4/10\n",
      "6166/6166 [==============================] - 27s 4ms/step - loss: 0.1818 - accuracy: 0.9590 - val_loss: 0.2284 - val_accuracy: 0.9287\n",
      "Epoch 5/10\n",
      "6166/6166 [==============================] - 27s 4ms/step - loss: 0.1389 - accuracy: 0.9695 - val_loss: 0.1973 - val_accuracy: 0.9403\n",
      "Epoch 6/10\n",
      "6166/6166 [==============================] - 27s 4ms/step - loss: 0.0952 - accuracy: 0.9794 - val_loss: 0.2169 - val_accuracy: 0.9416\n",
      "Epoch 7/10\n",
      "6166/6166 [==============================] - 27s 4ms/step - loss: 0.0682 - accuracy: 0.9848 - val_loss: 0.1836 - val_accuracy: 0.9416\n",
      "Epoch 8/10\n",
      "6166/6166 [==============================] - 27s 4ms/step - loss: 0.0518 - accuracy: 0.9893 - val_loss: 0.1430 - val_accuracy: 0.9442\n",
      "Epoch 9/10\n",
      "6166/6166 [==============================] - 27s 4ms/step - loss: 0.0383 - accuracy: 0.9916 - val_loss: 0.1676 - val_accuracy: 0.9416\n",
      "Epoch 10/10\n",
      "6166/6166 [==============================] - 27s 4ms/step - loss: 0.0307 - accuracy: 0.9943 - val_loss: 0.1733 - val_accuracy: 0.9436\n",
      "Train on 6166 samples, validate on 1542 samples\n",
      "Epoch 1/10\n",
      "6166/6166 [==============================] - 28s 4ms/step - loss: 0.2752 - accuracy: 0.8874 - val_loss: 0.1263 - val_accuracy: 0.9643\n",
      "Epoch 2/10\n",
      "6166/6166 [==============================] - 27s 4ms/step - loss: 0.0693 - accuracy: 0.9791 - val_loss: 0.1263 - val_accuracy: 0.9559\n",
      "Epoch 3/10\n",
      "6166/6166 [==============================] - 27s 4ms/step - loss: 0.0157 - accuracy: 0.9966 - val_loss: 0.1362 - val_accuracy: 0.9553\n",
      "Train on 6166 samples, validate on 1542 samples\n",
      "Epoch 1/10\n",
      "6166/6166 [==============================] - 27s 4ms/step - loss: 0.2532 - accuracy: 0.9004 - val_loss: 0.1345 - val_accuracy: 0.9591\n",
      "Epoch 2/10\n",
      "6166/6166 [==============================] - 26s 4ms/step - loss: 0.0606 - accuracy: 0.9822 - val_loss: 0.1236 - val_accuracy: 0.9604\n",
      "Epoch 3/10\n",
      "6166/6166 [==============================] - 27s 4ms/step - loss: 0.0172 - accuracy: 0.9956 - val_loss: 0.1274 - val_accuracy: 0.9585\n",
      "Epoch 4/10\n",
      "6166/6166 [==============================] - 27s 4ms/step - loss: 0.0028 - accuracy: 0.9994 - val_loss: 0.1655 - val_accuracy: 0.9604\n",
      "Train on 6166 samples, validate on 1542 samples\n",
      "Epoch 1/10\n",
      "6166/6166 [==============================] - 27s 4ms/step - loss: 0.4548 - accuracy: 0.8169 - val_loss: 0.2841 - val_accuracy: 0.9202\n",
      "Epoch 2/10\n",
      "6166/6166 [==============================] - 26s 4ms/step - loss: 0.1958 - accuracy: 0.9466 - val_loss: 0.1487 - val_accuracy: 0.9468\n",
      "Epoch 3/10\n",
      "6166/6166 [==============================] - 27s 4ms/step - loss: 0.0947 - accuracy: 0.9757 - val_loss: 0.1262 - val_accuracy: 0.9553\n",
      "Epoch 4/10\n",
      "6166/6166 [==============================] - 26s 4ms/step - loss: 0.0414 - accuracy: 0.9898 - val_loss: 0.1230 - val_accuracy: 0.9553\n",
      "Epoch 5/10\n",
      "6166/6166 [==============================] - 27s 4ms/step - loss: 0.0174 - accuracy: 0.9958 - val_loss: 0.1515 - val_accuracy: 0.9501\n",
      "Epoch 6/10\n",
      "6166/6166 [==============================] - 26s 4ms/step - loss: 0.0113 - accuracy: 0.9979 - val_loss: 0.1351 - val_accuracy: 0.9553\n"
     ]
    }
   ],
   "source": [
    "from keras.models import Sequential, Model\n",
    "from keras.optimizers import Adam\n",
    "from keras.callbacks import EarlyStopping\n",
    "# GlobalMaxPooling1D\n",
    "models = list()\n",
    "for lr in [0.0003, 0.005, 0.01, None]:\n",
    "#     earlyStopping = EarlyStopping(monitor='val_loss', patience=2, verbose=0, mode='min')\n",
    "#     model = Sequential()\n",
    "#     model.add(Embedding(MAX_NB_WORDS, EMBEDDING_DIM, input_length=X_train.shape[1]))\n",
    "#     model.add(SpatialDropout1D(0.2))\n",
    "#     model.add(LSTM(100, dropout=0.2, recurrent_dropout=0.2, return_sequences=True))\n",
    "#     model.add(TimeDistributed(Dense(1)))\n",
    "#     first = model.add(GlobalMaxPooling1D())\n",
    "#     second = model.add(AveragePooling1D())\n",
    "#     merged = Concatenate([first, second])\n",
    "#     model = merged\n",
    "#     model.add(Flatten())\n",
    "#     model.add(Dense(1, activation='sigmoid'))\n",
    "    inp = Input(shape=(X_train.shape[1],))\n",
    "    x = Embedding(MAX_NB_WORDS, EMBEDDING_DIM, input_length=X_train.shape[1])(inp)\n",
    "    x = SpatialDropout1D(0.2)(x)\n",
    "    x = LSTM(100, dropout=0.2, recurrent_dropout=0.2, return_sequences=True)(x)\n",
    "    x_1 = GlobalMaxPooling1D()(x)\n",
    "    x_2 = GlobalAveragePooling1D()(x)\n",
    "    x = concatenate([x_1, x_2])\n",
    "#     x = Flatten()(x)\n",
    "    x = Dense(1, activation='sigmoid')(x)\n",
    "    optimizer = Adam()\n",
    "    if lr:\n",
    "        optimizer = Adam(learning_rate=lr)\n",
    "    model = Model(inputs=[inp], outputs=x)\n",
    "    model.compile(loss='binary_crossentropy', optimizer=optimizer, metrics=['accuracy'])\n",
    "\n",
    "    epochs = 10\n",
    "    batch_size = 64\n",
    "\n",
    "    history = model.fit(X_train, Y_train, epochs=epochs, batch_size=batch_size,validation_split=0.2, callbacks=[earlyStopping])\n",
    "    models.append((model, history))"
   ]
  },
  {
   "cell_type": "markdown",
   "metadata": {},
   "source": [
    "### Видно, что модель №3 обучаются до ~0.96 на валидационном датасете, но практически запоминает треин датасет. Но так как val_accuracy все равно растет, то я думаю это ок. lr=0.01"
   ]
  },
  {
   "cell_type": "markdown",
   "metadata": {},
   "source": [
    "https://stats.stackexchange.com/questions/355997/when-to-stop-training-of-neural-network-when-validation-loss-is-still-decreasing"
   ]
  },
  {
   "cell_type": "markdown",
   "metadata": {},
   "source": [
    "https://www.reddit.com/r/MachineLearning/comments/700wpi/overfitting_neural_network_yielding_better_test/"
   ]
  },
  {
   "cell_type": "code",
   "execution_count": 44,
   "metadata": {},
   "outputs": [
    {
     "name": "stdout",
     "output_type": "stream",
     "text": [
      "ACCURACY:  0.9678423236514523\n",
      "F1 SCORE:  0.9417293233082707\n"
     ]
    }
   ],
   "source": [
    "model = models[2][0]\n",
    "from sklearn.metrics import f1_score, accuracy_score\n",
    "print(\"ACCURACY: \", accuracy_score(Y_test, model.predict(X_test).round()))\n",
    "print(\"F1 SCORE: \", f1_score(Y_test, model.predict(X_test).round()))"
   ]
  },
  {
   "cell_type": "code",
   "execution_count": 46,
   "metadata": {},
   "outputs": [],
   "source": [
    "from sklearn.metrics import precision_recall_curve\n",
    "# from sklearn.metrics import plot_precision_recall_curve\n",
    "import matplotlib.pyplot as plt\n",
    "precision, recall, thresholds = precision_recall_curve(y_test, model.predict(X_test))"
   ]
  },
  {
   "cell_type": "code",
   "execution_count": 47,
   "metadata": {},
   "outputs": [
    {
     "data": {
      "image/png": "[encoded data removed]",
      "text/plain": [
       "<Figure size 432x288 with 1 Axes>"
      ]
     },
     "metadata": {
      "needs_background": "light"
     },
     "output_type": "display_data"
    }
   ],
   "source": [
    "%matplotlib inline\n",
    "plt.plot(recall, precision, marker='.', label='GradientBoostingClassifier')\n",
    "# axis labels\n",
    "plt.xlabel('Recall')\n",
    "plt.ylabel('Precision')\n",
    "# show the legend\n",
    "plt.legend()\n",
    "# show the plot\n",
    "plt.show()"
   ]
  },
  {
   "cell_type": "code",
   "execution_count": null,
   "metadata": {},
   "outputs": [],
   "source": [
    "f1scores = list()\n",
    "thresholds = np.linspace(0.2, 0.8, 100)\n",
    "def roundthreshold(x, th):\n",
    "    return (x[0] >= th)\n",
    "for th in tqdm(thresholds, total=100):\n",
    "    f1scores.append(f1_score(y_test, [roundthreshold(x, th) for x in model.predict(X_test)]))\n"
   ]
  },
  {
   "cell_type": "code",
   "execution_count": 49,
   "metadata": {},
   "outputs": [
    {
     "name": "stderr",
     "output_type": "stream",
     "text": [
      "\n",
      "  0%|          | 0/1701 [00:00<?, ?it/s]\u001b[A\n",
      "  2%|▏         | 40/1701 [00:00<00:04, 397.29it/s]\u001b[A\n",
      "  5%|▍         | 78/1701 [00:00<00:04, 389.76it/s]\u001b[A\n",
      "  7%|▋         | 117/1701 [00:00<00:04, 387.82it/s]\u001b[A\n",
      "  9%|▉         | 154/1701 [00:00<00:04, 382.27it/s]\u001b[A\n",
      " 11%|█▏        | 193/1701 [00:00<00:03, 383.19it/s]\u001b[A\n",
      " 14%|█▎        | 231/1701 [00:00<00:03, 381.64it/s]\u001b[A\n",
      " 16%|█▌        | 270/1701 [00:00<00:03, 383.24it/s]\u001b[A\n",
      " 18%|█▊        | 309/1701 [00:00<00:03, 383.06it/s]\u001b[A\n",
      " 21%|██        | 349/1701 [00:00<00:03, 385.13it/s]\u001b[A\n",
      " 23%|██▎       | 386/1701 [00:01<00:03, 380.01it/s]\u001b[A\n",
      " 25%|██▍       | 425/1701 [00:01<00:03, 379.90it/s]\u001b[A\n",
      " 27%|██▋       | 463/1701 [00:01<00:03, 375.18it/s]\u001b[A\n",
      " 29%|██▉       | 501/1701 [00:01<00:03, 374.21it/s]\u001b[A\n",
      " 32%|███▏      | 539/1701 [00:01<00:03, 372.67it/s]\u001b[A\n",
      " 34%|███▍      | 577/1701 [00:01<00:03, 373.01it/s]\u001b[A\n",
      " 36%|███▌      | 615/1701 [00:01<00:02, 374.29it/s]\u001b[A\n",
      " 38%|███▊      | 653/1701 [00:01<00:02, 372.53it/s]\u001b[A\n",
      " 41%|████      | 691/1701 [00:01<00:02, 372.91it/s]\u001b[A\n",
      " 43%|████▎     | 730/1701 [00:01<00:02, 376.69it/s]\u001b[A\n",
      " 45%|████▌     | 768/1701 [00:02<00:02, 377.19it/s]\u001b[A\n",
      " 47%|████▋     | 806/1701 [00:02<00:02, 368.89it/s]\u001b[A\n",
      " 50%|████▉     | 843/1701 [00:02<00:02, 366.69it/s]\u001b[A\n",
      " 52%|█████▏    | 880/1701 [00:02<00:02, 365.59it/s]\u001b[A\n",
      " 54%|█████▍    | 918/1701 [00:02<00:02, 368.17it/s]\u001b[A\n",
      " 56%|█████▋    | 958/1701 [00:02<00:01, 374.63it/s]\u001b[A\n",
      " 59%|█████▊    | 997/1701 [00:02<00:01, 376.37it/s]\u001b[A\n",
      " 61%|██████    | 1035/1701 [00:02<00:01, 376.27it/s]\u001b[A\n",
      " 63%|██████▎   | 1073/1701 [00:02<00:01, 376.16it/s]\u001b[A\n",
      " 65%|██████▌   | 1111/1701 [00:02<00:01, 376.82it/s]\u001b[A\n",
      " 68%|██████▊   | 1149/1701 [00:03<00:01, 376.83it/s]\u001b[A\n",
      " 70%|██████▉   | 1188/1701 [00:03<00:01, 378.71it/s]\u001b[A\n",
      " 72%|███████▏  | 1226/1701 [00:03<00:01, 377.99it/s]\u001b[A\n",
      " 74%|███████▍  | 1264/1701 [00:03<00:01, 367.82it/s]\u001b[A\n",
      " 77%|███████▋  | 1302/1701 [00:03<00:01, 371.11it/s]\u001b[A\n",
      " 79%|███████▉  | 1341/1701 [00:03<00:00, 376.26it/s]\u001b[A\n",
      " 81%|████████  | 1380/1701 [00:03<00:00, 378.49it/s]\u001b[A\n",
      " 83%|████████▎ | 1419/1701 [00:03<00:00, 379.95it/s]\u001b[A\n",
      " 86%|████████▌ | 1458/1701 [00:03<00:00, 381.15it/s]\u001b[A\n",
      " 88%|████████▊ | 1497/1701 [00:03<00:00, 380.23it/s]\u001b[A\n",
      " 90%|█████████ | 1536/1701 [00:04<00:00, 380.46it/s]\u001b[A\n",
      " 93%|█████████▎| 1576/1701 [00:04<00:00, 384.29it/s]\u001b[A\n",
      " 95%|█████████▍| 1615/1701 [00:04<00:00, 384.32it/s]\u001b[A\n",
      " 97%|█████████▋| 1656/1701 [00:04<00:00, 390.71it/s]\u001b[A\n",
      "100%|██████████| 1701/1701 [00:04<00:00, 378.15it/s]\u001b[A\n"
     ]
    },
    {
     "name": "stdout",
     "output_type": "stream",
     "text": [
      "BEST THRESHOLD WITH RESPECT TO F1_LOSS:  0.23597708\n",
      "BEST F1_SCORE:  0.9475620975160994\n"
     ]
    },
    {
     "data": {
      "image/png": "[encoded data removed]",
      "text/plain": [
       "<Figure size 432x288 with 1 Axes>"
      ]
     },
     "metadata": {
      "needs_background": "light"
     },
     "output_type": "display_data"
    }
   ],
   "source": [
    "import matplotlib.pyplot as plt\n",
    "\n",
    "f1scores = list()\n",
    "y_pred = model.predict(X_test)\n",
    "for th in tqdm(thresholds, total=len(thresholds)):\n",
    "    f1scores.append(f1_score(y_test, [(x[0] >= th) for x in y_pred]))\n",
    "plt.plot(thresholds, f1scores)\n",
    "print(\"BEST THRESHOLD WITH RESPECT TO F1_LOSS: \", thresholds[np.argmax(f1scores)])\n",
    "print(\"BEST F1_SCORE: \", np.max(f1scores))"
   ]
  },
  {
   "cell_type": "markdown",
   "metadata": {},
   "source": [
    "#### Нет сильной разницы от threshold=0.5. Вторая модель дает лучший F1-score на тест выборке (0.947>0.922)"
   ]
  },
  {
   "cell_type": "code",
   "execution_count": 31,
   "metadata": {},
   "outputs": [],
   "source": [
    "def predict_class(sentence):\n",
    "    sentences = [sentence]\n",
    "    temp = tokenizer.texts_to_sequences(sentences)\n",
    "    temp = pad_sequences(temp, maxlen=MAX_SEQUENCE_LENGTH)\n",
    "    return model.predict(temp).round()[0][0]"
   ]
  },
  {
   "cell_type": "code",
   "execution_count": 32,
   "metadata": {},
   "outputs": [
    {
     "data": {
      "text/plain": [
       "0.0"
      ]
     },
     "execution_count": 32,
     "metadata": {},
     "output_type": "execute_result"
    }
   ],
   "source": [
    "predict_class('заказал дебетовку по инету  пришла смс что могу получить  прихожу в банк  тут сидит особь  лицо мега злобное  начинает какуюто ересь спрашивать  зачем вам карта  кто на нее будет делать переводы  на что будете их тратить и в каких магазинах еле сдержался чтоб не послать  ответил  в оконцовке  хотя ваша карта именная     уже готова и лежит тут  в офисе  но служба безопасности не может одобрить ее выдачупонятно что ужесточают  но такое прескверное отношение к клиенту  это просто    переплюнули худшие традиции совка  и это типа крупнейший частный банк рф  очень рад  что не стал их клиентом и в оконцовке пожелал им идти в известном направлении ')"
   ]
  },
  {
   "cell_type": "code",
   "execution_count": 33,
   "metadata": {},
   "outputs": [
    {
     "data": {
      "text/plain": [
       "1.0"
      ]
     },
     "execution_count": 33,
     "metadata": {},
     "output_type": "execute_result"
    }
   ],
   "source": [
    "predict_class('в продолжение первого отзыва  хочу поблагодарить команду альфа банка и менеджера ирину глонину  за решение моего вопроса  и открытие расчетного счета  остается не ясным момент тарифного плана специальный выбор и возможность перехода на другой тариф  только через полгода  но и на том спасибо  желаю успехов в работе ')"
   ]
  },
  {
   "cell_type": "code",
   "execution_count": null,
   "metadata": {},
   "outputs": [],
   "source": []
  }
 ],
 "metadata": {
  "kernelspec": {
   "display_name": "Python 3",
   "language": "python",
   "name": "python3"
  },
  "language_info": {
   "codemirror_mode": {
    "name": "ipython",
    "version": 3
   },
   "file_extension": ".py",
   "mimetype": "text/x-python",
   "name": "python",
   "nbconvert_exporter": "python",
   "pygments_lexer": "ipython3",
   "version": "3.6.8"
  }
 },
 "nbformat": 4,
 "nbformat_minor": 2
}
